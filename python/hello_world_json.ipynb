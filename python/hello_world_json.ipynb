{
  "cells": [
    {
      "cell_type": "markdown",
      "metadata": {
        "id": "view-in-github",
        "colab_type": "text"
      },
      "source": [
        "<a href=\"https://colab.research.google.com/github/fourfeatherz/DS2002S25/blob/main/python/hello_world_json.ipynb\" target=\"_parent\"><img src=\"https://colab.research.google.com/assets/colab-badge.svg\" alt=\"Open In Colab\"/></a>"
      ]
    },
    {
      "cell_type": "markdown",
      "metadata": {
        "id": "title-enhanced"
      },
      "source": [
        "#  Basic Python Commands and Statements\n",
        "\n",
        "This notebook demonstrates fundamental Python features including variables, control flow, loops, functions, data structures (with extra examples on dictionaries), list comprehensions, and importing libraries. Enjoy exploring and feel free to modify the code as you see fit!"
      ]
    },
    {
      "cell_type": "code",
      "execution_count": null,
      "metadata": {
        "id": "variables-arithmetic-enhanced"
      },
      "outputs": [],
      "source": [
        "# Variable assignment and arithmetic operations\n",
        "x = 10\n",
        "y = 5\n",
        "\n",
        "print('x =', x, 'and y =', y)\n",
        "\n",
        "# Basic arithmetic\n",
        "sum_xy = x + y\n",
        "product_xy = x * y\n",
        "\n",
        "print('Sum:', sum_xy)\n",
        "print('Product:', product_xy)"
      ]
    },
    {
      "cell_type": "markdown",
      "metadata": {
        "id": "control-flow-enhanced"
      },
      "source": [
        "## Control Flow\n",
        "\n",
        "Let's see how an if-else statement works."
      ]
    },
    {
      "cell_type": "code",
      "execution_count": null,
      "metadata": {
        "id": "if-else-enhanced"
      },
      "outputs": [],
      "source": [
        "# If-else statement\n",
        "if x > y:\n",
        "    print('x is greater than y')\n",
        "elif x == y:\n",
        "    print('x is equal to y')\n",
        "else:\n",
        "    print('x is less than y')"
      ]
    },
    {
      "cell_type": "markdown",
      "metadata": {
        "id": "loops-enhanced"
      },
      "source": [
        "## Looping Constructs\n",
        "\n",
        "Below are examples of a `for` loop and a `while` loop."
      ]
    },
    {
      "cell_type": "code",
      "execution_count": null,
      "metadata": {
        "id": "loops-code-enhanced"
      },
      "outputs": [],
      "source": [
        "# For loop: iterate over a range of numbers\n",
        "print('For loop output:')\n",
        "for i in range(5):\n",
        "    print('Iteration', i)\n",
        "\n",
        "# While loop: counting from 0 to 4\n",
        "print('\\nWhile loop output:')\n",
        "counter = 0\n",
        "while counter < 5:\n",
        "    print('Counter:', counter)\n",
        "    counter += 1"
      ]
    },
    {
      "cell_type": "markdown",
      "metadata": {
        "id": "functions-enhanced"
      },
      "source": [
        "## Functions\n",
        "\n",
        "Here's a simple function to greet a user."
      ]
    },
    {
      "cell_type": "code",
      "execution_count": null,
      "metadata": {
        "id": "functions-code-enhanced"
      },
      "outputs": [],
      "source": [
        "# Define a function\n",
        "def greet(name):\n",
        "    return f'Hello, {name}!'\n",
        "\n",
        "# Call the function\n",
        "print(greet('Alice'))"
      ]
    },
    {
      "cell_type": "markdown",
      "metadata": {
        "id": "data-structures-enhanced"
      },
      "source": [
        "## Data Structures\n",
        "\n",
        "### Lists\n",
        "\n",
        "A simple list of fruits."
      ]
    },
    {
      "cell_type": "code",
      "execution_count": null,
      "metadata": {
        "id": "list-example"
      },
      "outputs": [],
      "source": [
        "# List example\n",
        "fruits = ['apple', 'banana', 'cherry']\n",
        "print('Fruits:', fruits)"
      ]
    },
    {
      "cell_type": "markdown",
      "metadata": {
        "id": "dictionaries-intro"
      },
      "source": [
        "### Dictionaries\n",
        "\n",
        "Dictionaries are collections of key-value pairs. Let's explore several examples."
      ]
    },
    {
      "cell_type": "code",
      "execution_count": null,
      "metadata": {
        "id": "dictionary-basic"
      },
      "outputs": [],
      "source": [
        "# Basic dictionary example\n",
        "person = {'name': 'Bob', 'age': 25, 'city': 'New York'}\n",
        "print('Person Dictionary:', person)\n",
        "\n",
        "# Accessing values using keys\n",
        "print(\"Bob's age is:\", person['age'])\n",
        "\n",
        "# Using .get() to safely access a key\n",
        "print(\"Bob's profession:\", person.get('profession', 'Not specified'))"
      ]
    },
    {
      "cell_type": "markdown",
      "metadata": {
        "id": "dictionary-iteration"
      },
      "source": [
        "#### Iterating Over a Dictionary\n",
        "\n",
        "Loop through keys and values."
      ]
    },
    {
      "cell_type": "code",
      "execution_count": null,
      "metadata": {
        "id": "dictionary-iteration-code"
      },
      "outputs": [],
      "source": [
        "# Iterating over dictionary items\n",
        "for key, value in person.items():\n",
        "    print(f'{key}: {value}')"
      ]
    },
    {
      "cell_type": "markdown",
      "metadata": {
        "id": "dictionary-comprehension"
      },
      "source": [
        "#### Dictionary Example\n",
        "\n",
        "A concise way to create dictionaries."
      ]
    },
    {
      "cell_type": "code",
      "execution_count": null,
      "metadata": {
        "id": "dictionary-comprehension-code"
      },
      "outputs": [],
      "source": [
        "# Create a dictionary of numbers and their squares using comprehension\n",
        "squares_dict = {i: i**2 for i in range(6)}\n",
        "print('Squares Dictionary:', squares_dict)"
      ]
    },
    {
      "cell_type": "markdown",
      "metadata": {
        "id": "dictionary-merge"
      },
      "source": [
        "#### Merging Dictionaries\n",
        "\n",
        "Merge two dictionaries using the unpacking operator."
      ]
    },
    {
      "cell_type": "code",
      "execution_count": null,
      "metadata": {
        "id": "dictionary-merge-code"
      },
      "outputs": [],
      "source": [
        "# Define two dictionaries\n",
        "dict1 = {'a': 1, 'b': 2}\n",
        "dict2 = {'b': 3, 'c': 4}\n",
        "\n",
        "# Merge them: values in dict2 will override those in dict1 for common keys\n",
        "merged_dict = {**dict1, **dict2}\n",
        "print('Merged Dictionary:', merged_dict)"
      ]
    },
    {
      "cell_type": "markdown",
      "metadata": {
        "id": "list-comprehensions-enhanced"
      },
      "source": [
        "## List\n",
        "\n",
        "A concise way to create lists."
      ]
    },
    {
      "cell_type": "code",
      "execution_count": null,
      "metadata": {
        "id": "list-comprehension-code-enhanced"
      },
      "outputs": [],
      "source": [
        "# List comprehension to compute squares of numbers 0 to 9\n",
        "squares = [i**2 for i in range(10)]\n",
        "print('Squares:', squares)"
      ]
    },
    {
      "cell_type": "markdown",
      "metadata": {
        "id": "importing-libraries-enhanced"
      },
      "source": [
        "## Importing Libraries\n",
        "\n",
        "Let's import the built-in `math` library and use it."
      ]
    },
    {
      "cell_type": "code",
      "execution_count": 1,
      "metadata": {
        "colab": {
          "base_uri": "https://localhost:8080/"
        },
        "id": "importing-code-enhanced",
        "outputId": "d6a7273c-77d8-4289-e1da-fc4ba214f078"
      },
      "outputs": [
        {
          "output_type": "stream",
          "name": "stdout",
          "text": [
            "The square root of 16 is: 4.0\n"
          ]
        }
      ],
      "source": [
        "import math\n",
        "\n",
        "print('The square root of 16 is:', math.sqrt(16))"
      ]
    }
  ],
  "metadata": {
    "colab": {
      "provenance": [],
      "include_colab_link": true
    },
    "kernelspec": {
      "display_name": "Python 3",
      "language": "python",
      "name": "python3"
    },
    "language_info": {
      "name": "python",
      "version": "3.x"
    }
  },
  "nbformat": 4,
  "nbformat_minor": 0
}